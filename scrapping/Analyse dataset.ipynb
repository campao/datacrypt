{
 "cells": [
  {
   "cell_type": "code",
   "execution_count": 119,
   "metadata": {},
   "outputs": [
    {
     "name": "stderr",
     "output_type": "stream",
     "text": [
      "[nltk_data] Downloading package vader_lexicon to\n",
      "[nltk_data]     /Users/antoninjanmot/nltk_data...\n",
      "[nltk_data]   Package vader_lexicon is already up-to-date!\n"
     ]
    }
   ],
   "source": [
    "import pandas as pd\n",
    "from nltk.sentiment.vader import SentimentIntensityAnalyzer\n",
    "import nltk\n",
    "nltk.download('vader_lexicon')\n",
    "\n",
    "analyser = SentimentIntensityAnalyzer()\n",
    "def get_compound(text):\n",
    "    return(analyser.polarity_scores(text)['compound'])"
   ]
  },
  {
   "cell_type": "code",
   "execution_count": 206,
   "metadata": {
    "scrolled": true
   },
   "outputs": [
    {
     "name": "stdout",
     "output_type": "stream",
     "text": [
      "data/01_Janv/02_data_Janv.csv\n",
      "data/01_Janv/03_data_Janv.csv\n",
      "data/01_Janv/04_data_Janv.csv\n",
      "data/01_Janv/05_data_Janv.csv\n"
     ]
    }
   ],
   "source": [
    "df = pd.read_csv(\"data/01_Janv/01_data_Janv.csv\", index_col=\"tweet_id\")\n",
    "for i in range(2, 6):\n",
    "    df = pd.concat([df, pd.read_csv(\"data/01_Janv/{:02d}_data_Janv.csv\".format(i), index_col=\"tweet_id\")])\n",
    "    print(\"data/01_Janv/{:02d}_data_Janv.csv\".format(i))\n",
    "#df1 = pd.read_csv(\"data/01_Janv/01_data_Janv.csv\", index_col=\"tweet_id\")\n",
    "#df2 = pd.read_csv(\"data/01_Janv/02_data_Janv.csv\", index_col=\"tweet_id\")\n",
    "#df3 = pd.read_csv(\"data/01_Janv/03_data_Janv.csv\", index_col=\"tweet_id\")\n",
    "#df4 = pd.read_csv(\"data/01_Janv/04_data_Janv.csv\", index_col=\"tweet_id\")\n",
    "#df5 = pd.read_csv(\"data/01_Janv/05_data_Janv.csv\", index_col=\"tweet_id\")\n",
    "\n",
    "df[\"created_at\"] = pd.to_datetime(df[\"created_at\"], unit='ms')\n",
    "#df2[\"created_at\"] = pd.to_datetime(df2[\"created_at\"], unit='ms')\n",
    "#df3[\"created_at\"] = pd.to_datetime(df3[\"created_at\"], unit='ms')\n",
    "#df4[\"created_at\"] = pd.to_datetime(df4[\"created_at\"], unit='ms')\n",
    "#df5[\"created_at\"] = pd.to_datetime(df5[\"created_at\"], unit='ms')\n",
    "df = df.drop(['user_name', 'user_id', 'user_screen_name'], axis=1)\n",
    "\n",
    "df[\"text_sentiment\"] = df[\"text\"].apply(get_compound)"
   ]
  },
  {
   "cell_type": "code",
   "execution_count": 207,
   "metadata": {
    "scrolled": false
   },
   "outputs": [
    {
     "ename": "TypeError",
     "evalue": "'function' object is not subscriptable",
     "output_type": "error",
     "traceback": [
      "\u001b[0;31m---------------------------------------------------------------------------\u001b[0m",
      "\u001b[0;31mTypeError\u001b[0m                                 Traceback (most recent call last)",
      "\u001b[0;32m<ipython-input-207-eced7820dc0b>\u001b[0m in \u001b[0;36m<module>\u001b[0;34m\u001b[0m\n\u001b[1;32m      1\u001b[0m \u001b[0mdf_grouped\u001b[0m \u001b[0;34m=\u001b[0m \u001b[0mdf\u001b[0m\u001b[0;34m.\u001b[0m\u001b[0mgroupby\u001b[0m\u001b[0;34m(\u001b[0m\u001b[0mdf\u001b[0m\u001b[0;34m[\u001b[0m\u001b[0;34m\"created_at\"\u001b[0m\u001b[0;34m]\u001b[0m\u001b[0;34m.\u001b[0m\u001b[0mdt\u001b[0m\u001b[0;34m.\u001b[0m\u001b[0mdate\u001b[0m\u001b[0;34m)\u001b[0m\u001b[0;34m\u001b[0m\u001b[0;34m\u001b[0m\u001b[0m\n\u001b[0;32m----> 2\u001b[0;31m \u001b[0mdf_res\u001b[0m \u001b[0;34m=\u001b[0m \u001b[0mpd\u001b[0m\u001b[0;34m.\u001b[0m\u001b[0mmerge\u001b[0m\u001b[0;34m[\u001b[0m\u001b[0mdf_grouped\u001b[0m\u001b[0;34m[\u001b[0m\u001b[0;34m'likes'\u001b[0m\u001b[0;34m]\u001b[0m\u001b[0;34m.\u001b[0m\u001b[0mtransform\u001b[0m\u001b[0;34m(\u001b[0m\u001b[0msum\u001b[0m\u001b[0;34m)\u001b[0m\u001b[0;34m,\u001b[0m \u001b[0mdf_grouped\u001b[0m\u001b[0;34m[\u001b[0m\u001b[0;34m'retweets'\u001b[0m\u001b[0;34m]\u001b[0m\u001b[0;34m.\u001b[0m\u001b[0mtransform\u001b[0m\u001b[0;34m(\u001b[0m\u001b[0msum\u001b[0m\u001b[0;34m)\u001b[0m\u001b[0;34m]\u001b[0m\u001b[0;34m\u001b[0m\u001b[0;34m\u001b[0m\u001b[0m\n\u001b[0m\u001b[1;32m      3\u001b[0m \u001b[0;31m#df[\"retweets\"].groupby(df[\"created_at\"].dt.date).sum()\u001b[0m\u001b[0;34m\u001b[0m\u001b[0;34m\u001b[0m\u001b[0;34m\u001b[0m\u001b[0m\n",
      "\u001b[0;31mTypeError\u001b[0m: 'function' object is not subscriptable"
     ]
    }
   ],
   "source": [
    "df_grouped = df.groupby(df[\"created_at\"].dt.date)\n",
    "df_res = pd.merge[df_grouped['likes'].transform(sum), df_grouped['retweets'].transform(sum)]\n",
    "#df[\"retweets\"].groupby(df[\"created_at\"].dt.date).sum()"
   ]
  },
  {
   "cell_type": "code",
   "execution_count": 203,
   "metadata": {},
   "outputs": [
    {
     "data": {
      "text/plain": [
       "tweet_id\n",
       "947980273634902018                                                 3022\n",
       "947980273630752774                                                 3022\n",
       "947980109922947079                                                 3022\n",
       "947980084715106304                                                 3022\n",
       "947980059910000642                                                 3022\n",
       "                                            ...                        \n",
       "949322846865633281                                                 5064\n",
       "949322719186898945                                                 5064\n",
       "949322712463286272                                                 5064\n",
       "sum_like              tweet_id\n",
       "947980273634902018    4580\n",
       "9479802736...\n",
       "sum_rt                tweet_id\n",
       "947980273634902018    3022\n",
       "9479802736...\n",
       "Name: retweets, Length: 11985, dtype: object"
      ]
     },
     "execution_count": 203,
     "metadata": {},
     "output_type": "execute_result"
    }
   ],
   "source": [
    "df_res"
   ]
  },
  {
   "cell_type": "code",
   "execution_count": null,
   "metadata": {},
   "outputs": [],
   "source": []
  }
 ],
 "metadata": {
  "kernelspec": {
   "display_name": "Python 3",
   "language": "python",
   "name": "python3"
  },
  "language_info": {
   "codemirror_mode": {
    "name": "ipython",
    "version": 3
   },
   "file_extension": ".py",
   "mimetype": "text/x-python",
   "name": "python",
   "nbconvert_exporter": "python",
   "pygments_lexer": "ipython3",
   "version": "3.7.4"
  }
 },
 "nbformat": 4,
 "nbformat_minor": 2
}
